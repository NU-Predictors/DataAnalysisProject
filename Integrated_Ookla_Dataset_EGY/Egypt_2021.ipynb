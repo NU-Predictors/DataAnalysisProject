{
 "cells": [
  {
   "cell_type": "code",
   "execution_count": 3,
   "metadata": {},
   "outputs": [],
   "source": [
    "import pandas as pd\n",
    "\n",
    "# Load the four CSV files into dataframes\n",
    "df1 = pd.read_csv('cleaned_data_egy_Q1.csv')\n",
    "df2 = pd.read_csv('cleaned_data_egy_Q2.csv')\n",
    "df3 = pd.read_csv('cleaned_data_egy_Q3.csv')\n",
    "df4 = pd.read_csv('cleaned_data_egy_Q4.csv')\n",
    "\n",
    "# Add the 'quarter' column with the respective quarter value\n",
    "df1['quarter'] = 'Q1'\n",
    "df2['quarter'] = 'Q2'\n",
    "df3['quarter'] = 'Q3'\n",
    "df4['quarter'] = 'Q4'\n",
    "\n",
    "# Now, integrate all four datasets (assuming they have the same structure and rows)\n",
    "final_df = pd.concat([df1, df2, df3, df4], axis=0)\n",
    "\n",
    "# Save the final integrated dataset to a new CSV file\n",
    "final_df.to_csv('integrated_data_egy_2021.csv', index=False)\n"
   ]
  }
 ],
 "metadata": {
  "kernelspec": {
   "display_name": "Python 3",
   "language": "python",
   "name": "python3"
  },
  "language_info": {
   "codemirror_mode": {
    "name": "ipython",
    "version": 3
   },
   "file_extension": ".py",
   "mimetype": "text/x-python",
   "name": "python",
   "nbconvert_exporter": "python",
   "pygments_lexer": "ipython3",
   "version": "3.11.9"
  }
 },
 "nbformat": 4,
 "nbformat_minor": 2
}
